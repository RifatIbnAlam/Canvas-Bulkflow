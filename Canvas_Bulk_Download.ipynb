{
  "nbformat": 4,
  "nbformat_minor": 0,
  "metadata": {
    "colab": {
      "provenance": []
    },
    "kernelspec": {
      "name": "python3",
      "display_name": "Python 3"
    },
    "language_info": {
      "name": "python"
    }
  },
  "cells": [
    {
      "cell_type": "code",
      "source": [
        "import pandas as pd\n",
        "import requests\n",
        "import os\n",
        "import re\n",
        "import time\n",
        "\n",
        "# Configuration\n",
        "# df = pd.read_csv('Spring_2025_ENGR-2010-002.csv')\n",
        "\n",
        "csv_file = 'YourExcelFile.csv'\n",
        "df = pd.read_csv(csv_file)\n",
        "\n",
        "\n",
        "# Filter the dataset to only include rows with Mime type \"application/PDF\" and Ocred:2 equal to 0\n",
        "df = df[(df['Mime type'] == 'application/pdf') & (df['Ocred:2'] == 0)]\n",
        "df.info()\n"
      ],
      "metadata": {
        "colab": {
          "base_uri": "https://localhost:8080/"
        },
        "id": "zABhenajDOyW",
        "outputId": "6c2de4be-cfbb-4d3b-84b3-da1859e0ad1b"
      },
      "execution_count": null,
      "outputs": [
        {
          "output_type": "stream",
          "name": "stdout",
          "text": [
            "<class 'pandas.core.frame.DataFrame'>\n",
            "Index: 12 entries, 8 to 39\n",
            "Data columns (total 46 columns):\n",
            " #   Column                   Non-Null Count  Dtype  \n",
            "---  ------                   --------------  -----  \n",
            " 0   Id                       12 non-null     object \n",
            " 1   Name                     12 non-null     object \n",
            " 2   Mime type                12 non-null     object \n",
            " 3   Score                    12 non-null     float64\n",
            " 4   Deleted at               0 non-null      float64\n",
            " 5   Library reference        0 non-null      float64\n",
            " 6   Url                      12 non-null     object \n",
            " 7   Checked on               12 non-null     object \n",
            " 8   AlternativeText:2        12 non-null     int64  \n",
            " 9   Contrast:2               12 non-null     int64  \n",
            " 10  HeadingsHigherLevel:3    12 non-null     int64  \n",
            " 11  HeadingsPresence:2       12 non-null     int64  \n",
            " 12  HeadingsSequential:3     12 non-null     int64  \n",
            " 13  HeadingsStartAtOne:3     12 non-null     int64  \n",
            " 14  HtmlBrokenLink:2         12 non-null     int64  \n",
            " 15  HtmlCaption:2            12 non-null     int64  \n",
            " 16  HtmlColorContrast:2      12 non-null     int64  \n",
            " 17  HtmlDefinitionList:3     12 non-null     int64  \n",
            " 18  HtmlEmptyHeading:2       12 non-null     int64  \n",
            " 19  HtmlEmptyTableHeader:2   12 non-null     int64  \n",
            " 20  HtmlHasLang:3            12 non-null     int64  \n",
            " 21  HtmlHeadingOrder:3       12 non-null     int64  \n",
            " 22  HtmlHeadingsPresence:2   12 non-null     int64  \n",
            " 23  HtmlHeadingsStart:2      12 non-null     int64  \n",
            " 24  HtmlImageAlt:2           12 non-null     int64  \n",
            " 25  HtmlImageRedundantAlt:3  12 non-null     int64  \n",
            " 26  HtmlLabel:2              12 non-null     int64  \n",
            " 27  HtmlLinkName:3           12 non-null     int64  \n",
            " 28  HtmlList:3               12 non-null     int64  \n",
            " 29  HtmlObjectAlt:2          12 non-null     int64  \n",
            " 30  HtmlTdHasHeader:2        12 non-null     int64  \n",
            " 31  HtmlTitle:3              12 non-null     int64  \n",
            " 32  ImageContrast:2          12 non-null     int64  \n",
            " 33  ImageDecorative:2        12 non-null     int64  \n",
            " 34  ImageDescription:2       12 non-null     int64  \n",
            " 35  ImageOcr:3               12 non-null     int64  \n",
            " 36  ImageSeizure:1           12 non-null     int64  \n",
            " 37  LanguageCorrect:3        12 non-null     int64  \n",
            " 38  LanguagePresence:3       12 non-null     int64  \n",
            " 39  Ocred:2                  12 non-null     int64  \n",
            " 40  Parsable:1               12 non-null     int64  \n",
            " 41  Scanned:1                12 non-null     int64  \n",
            " 42  Security:1               12 non-null     int64  \n",
            " 43  TableHeaders:2           12 non-null     int64  \n",
            " 44  Tagged:2                 12 non-null     int64  \n",
            " 45  Title:3                  12 non-null     int64  \n",
            "dtypes: float64(3), int64(38), object(5)\n",
            "memory usage: 4.4+ KB\n"
          ]
        }
      ]
    },
    {
      "cell_type": "code",
      "source": [
        "file_id_column = \"Id\"\n",
        "filename_column = \"Name\"\n",
        "\n",
        "# Canvas API token and base URL\n",
        "canvas_token = \"1009~2uRhmABNCBRuTBwfGfWmhP6JZxARv96PTBYyutQMvRD3cvf3tV6B4WkVCXLYGBXH\"\n",
        "base_url = \"https://usu.instructure.com\"\n",
        "\n",
        "headers = {\n",
        "    \"Authorization\": f\"Bearer {canvas_token}\"\n",
        "}\n",
        "\n",
        "# Folder for downloads\n",
        "output_folder = \"Downloads\"\n",
        "os.makedirs(output_folder, exist_ok=True)\n",
        "\n",
        "# Function to sanitize filenames (removes characters not allowed on Windows)\n",
        "def sanitize_filename(name):\n",
        "    return re.sub(r'[\\\\/*?:\"<>|]', \"\", name)\n",
        "\n",
        "# Loop through each row in the filtered DataFrame\n",
        "for index, row in df.iterrows():\n",
        "    file_id = row[file_id_column]\n",
        "    file_name = sanitize_filename(str(row[filename_column]))\n",
        "\n",
        "    if pd.isna(file_id):\n",
        "        print(f\"Row {index} has no File ID. Skipping.\")\n",
        "        continue\n",
        "\n",
        "    # Step 1: Get file metadata from Canvas API\n",
        "    file_api_url = f\"{base_url}/api/v1/files/{int(file_id)}\"\n",
        "    meta_resp = requests.get(file_api_url, headers=headers)\n",
        "\n",
        "    if meta_resp.status_code != 200:\n",
        "        print(f\"Failed to retrieve metadata for file ID {file_id} (Status: {meta_resp.status_code}). Skipping.\")\n",
        "        continue\n",
        "\n",
        "    file_info = meta_resp.json()\n",
        "    download_url = file_info.get(\"url\")\n",
        "    expected_size = file_info.get(\"size\")\n",
        "\n",
        "    if not download_url:\n",
        "        print(f\"No download URL found for file ID {file_id}. Skipping.\")\n",
        "        continue\n",
        "\n",
        "    # Step 2: Download the file using streaming\n",
        "    print(f\"Downloading {file_name} from {download_url}\")\n",
        "    download_resp = requests.get(download_url, headers=headers, stream=True)\n",
        "\n",
        "    if download_resp.status_code != 200:\n",
        "        print(f\"Failed to download {file_name} (Status: {download_resp.status_code}).\")\n",
        "        continue\n",
        "\n",
        "    # Check Content-Type for extra confirmation\n",
        "    content_type = download_resp.headers.get(\"Content-Type\", \"\")\n",
        "    if \"application/pdf\" not in content_type:\n",
        "        print(f\"Warning: {file_name} returned unexpected Content-Type: {content_type}\")\n",
        "\n",
        "    # Save the file in chunks\n",
        "    filepath = os.path.join(output_folder, file_name)\n",
        "    with open(filepath, \"wb\") as f:\n",
        "        for chunk in download_resp.iter_content(chunk_size=8192):\n",
        "            if chunk:\n",
        "                f.write(chunk)\n",
        "    download_resp.close()\n",
        "\n",
        "    # Verify file size after download\n",
        "    actual_size = os.path.getsize(filepath)\n",
        "    if expected_size and actual_size < expected_size:\n",
        "        print(f\"Downloaded {file_name} is smaller than expected (Expected: {expected_size} bytes, Got: {actual_size} bytes).\")\n",
        "    else:\n",
        "        print(f\"Downloaded: {file_name} ({actual_size} bytes) successfully.\")\n",
        "\n",
        "    # Optional: short delay to avoid rate limiting\n",
        "    time.sleep(1)\n"
      ],
      "metadata": {
        "colab": {
          "base_uri": "https://localhost:8080/"
        },
        "id": "WQ9_-QkjDVTZ",
        "outputId": "7d4680d3-6da5-4741-c886-ac6e5df72879"
      },
      "execution_count": null,
      "outputs": [
        {
          "output_type": "stream",
          "name": "stdout",
          "text": [
            "Downloading 3710 score distribution sheets updated 19 Feb 2020-1.pdf from https://usu.instructure.com/files/93698836/download?download_frd=1&verifier=lVGs1iPvAkZyp568DFIPMCzju7zrbvCJOeJPxAOQ\n",
            "Downloaded: 3710 score distribution sheets updated 19 Feb 2020-1.pdf (1535819 bytes) successfully.\n",
            "Downloading 3710 score distribution sheets updated 19 Feb 2020.pdf from https://usu.instructure.com/files/93698846/download?download_frd=1&verifier=CkEqVENjYv0XegQD433tYNPDdInxBGsKqwDY0IGY\n",
            "Downloaded: 3710 score distribution sheets updated 19 Feb 2020.pdf (1535819 bytes) successfully.\n",
            "Downloading 3710 score distribution sheets updated 26 January 2022-1-1.pdf from https://usu.instructure.com/files/93698971/download?download_frd=1&verifier=jeWlFNkPoGpV1qHhAO7Rrd0dgTZwfS31NxdNiuw5\n",
            "Downloaded: 3710 score distribution sheets updated 26 January 2022-1-1.pdf (5191066 bytes) successfully.\n",
            "Downloading 3710 score distribution sheets updated 26 January 2022-1.pdf from https://usu.instructure.com/files/93698892/download?download_frd=1&verifier=hgmfQmydFdYhwN3cgOBVzgb2oqahITaudxlrwNbe\n",
            "Downloaded: 3710 score distribution sheets updated 26 January 2022-1.pdf (5191066 bytes) successfully.\n",
            "Downloading 3710 score distribution sheets updated 26 January 2022-2.pdf from https://usu.instructure.com/files/93698902/download?download_frd=1&verifier=0Wh6AYZniTFvMz5Zzs0jpJLfY7CxZFsteJuggicl\n",
            "Downloaded: 3710 score distribution sheets updated 26 January 2022-2.pdf (5191066 bytes) successfully.\n",
            "Downloading 3710 score distribution sheets updated 26 January 2022.pdf from https://usu.instructure.com/files/93698911/download?download_frd=1&verifier=lCtL3jvGiROtHr0ht82OxDgH1k78vtLzxRoZDpRj\n",
            "Downloaded: 3710 score distribution sheets updated 26 January 2022.pdf (5191066 bytes) successfully.\n",
            "Downloading CHEM 3710 Lab Report Score Distribution Sheets-1-1.pdf from https://usu.instructure.com/files/93698942/download?download_frd=1&verifier=jjKXNUBJ9fIzV957MtHN4iVpJpCFM34zxIKDKbsd\n",
            "Downloaded: CHEM 3710 Lab Report Score Distribution Sheets-1-1.pdf (1602908 bytes) successfully.\n",
            "Downloading CHEM 3710 Lab Report Score Distribution Sheets-1.pdf from https://usu.instructure.com/files/93698877/download?download_frd=1&verifier=63NEQMHwf6oyLIPJUQ22EqBnYGPlnl3gzmLN9IE3\n",
            "Downloaded: CHEM 3710 Lab Report Score Distribution Sheets-1.pdf (1602908 bytes) successfully.\n",
            "Downloading CHEM 3710 Lab Report Score Distribution Sheets-2.pdf from https://usu.instructure.com/files/93698904/download?download_frd=1&verifier=wlD0pwAuDG3OqIvlhEoXnwfELWlmOclLp2ba7Yly\n",
            "Downloaded: CHEM 3710 Lab Report Score Distribution Sheets-2.pdf (1513248 bytes) successfully.\n",
            "Downloading CHEM 3710 Lab Report Score Distribution Sheets.pdf from https://usu.instructure.com/files/93698888/download?download_frd=1&verifier=Ahr8GmVZKUuRzCYR68XK7M4rqrQgXu7bEK30ZLvP\n",
            "Downloaded: CHEM 3710 Lab Report Score Distribution Sheets.pdf (1513248 bytes) successfully.\n",
            "Downloading CHEM 3710 Safety Document-1.pdf from https://usu.instructure.com/files/93698960/download?download_frd=1&verifier=lmw9oayzOQpiYwvvoRGXGhIi3JwEGbeZsGDPiMb9\n",
            "Downloaded: CHEM 3710 Safety Document-1.pdf (1891694 bytes) successfully.\n",
            "Downloading CHEM 3710 Safety Document.pdf from https://usu.instructure.com/files/93698900/download?download_frd=1&verifier=9f4bSelJXIMTCJkbD9S3Nbakpg5vH3RG3u4Cqccp\n",
            "Downloaded: CHEM 3710 Safety Document.pdf (1891694 bytes) successfully.\n"
          ]
        }
      ]
    },
    {
      "cell_type": "code",
      "source": [
        "import zipfile\n",
        "from google.colab import files\n",
        "\n",
        "def zip_and_download_folder(folder_path, zip_filename):\n",
        "  \"\"\"Zips a folder and downloads the zip file.\"\"\"\n",
        "\n",
        "  with zipfile.ZipFile(zip_filename, 'w', zipfile.ZIP_DEFLATED) as zipf:\n",
        "    for root, _, filenames in os.walk(folder_path):\n",
        "      for filename in filenames:\n",
        "        filepath = os.path.join(root, filename)\n",
        "        zipf.write(filepath, os.path.relpath(filepath, folder_path))\n",
        "\n",
        "  files.download(zip_filename)\n",
        "\n",
        "\n",
        "folder_to_zip = 'Downloads'\n",
        "zip_filename = 'downloads.zip'\n",
        "\n",
        "zip_and_download_folder(folder_to_zip, zip_filename)\n"
      ],
      "metadata": {
        "colab": {
          "base_uri": "https://localhost:8080/",
          "height": 17
        },
        "id": "HeyOPL8Doemu",
        "outputId": "f267d6c3-1b98-4aa9-c79a-96186eee52c0"
      },
      "execution_count": null,
      "outputs": [
        {
          "output_type": "display_data",
          "data": {
            "text/plain": [
              "<IPython.core.display.Javascript object>"
            ],
            "application/javascript": [
              "\n",
              "    async function download(id, filename, size) {\n",
              "      if (!google.colab.kernel.accessAllowed) {\n",
              "        return;\n",
              "      }\n",
              "      const div = document.createElement('div');\n",
              "      const label = document.createElement('label');\n",
              "      label.textContent = `Downloading \"${filename}\": `;\n",
              "      div.appendChild(label);\n",
              "      const progress = document.createElement('progress');\n",
              "      progress.max = size;\n",
              "      div.appendChild(progress);\n",
              "      document.body.appendChild(div);\n",
              "\n",
              "      const buffers = [];\n",
              "      let downloaded = 0;\n",
              "\n",
              "      const channel = await google.colab.kernel.comms.open(id);\n",
              "      // Send a message to notify the kernel that we're ready.\n",
              "      channel.send({})\n",
              "\n",
              "      for await (const message of channel.messages) {\n",
              "        // Send a message to notify the kernel that we're ready.\n",
              "        channel.send({})\n",
              "        if (message.buffers) {\n",
              "          for (const buffer of message.buffers) {\n",
              "            buffers.push(buffer);\n",
              "            downloaded += buffer.byteLength;\n",
              "            progress.value = downloaded;\n",
              "          }\n",
              "        }\n",
              "      }\n",
              "      const blob = new Blob(buffers, {type: 'application/binary'});\n",
              "      const a = document.createElement('a');\n",
              "      a.href = window.URL.createObjectURL(blob);\n",
              "      a.download = filename;\n",
              "      div.appendChild(a);\n",
              "      a.click();\n",
              "      div.remove();\n",
              "    }\n",
              "  "
            ]
          },
          "metadata": {}
        },
        {
          "output_type": "display_data",
          "data": {
            "text/plain": [
              "<IPython.core.display.Javascript object>"
            ],
            "application/javascript": [
              "download(\"download_eca7dbf2-bb9b-441a-82fd-ad4e389faa0d\", \"downloads.zip\", 31664698)"
            ]
          },
          "metadata": {}
        }
      ]
    }
  ]
}